{
  "nbformat": 4,
  "nbformat_minor": 0,
  "metadata": {
    "colab": {
      "provenance": []
    },
    "kernelspec": {
      "name": "python3",
      "display_name": "Python 3"
    },
    "language_info": {
      "name": "python"
    }
  },
  "cells": [
    {
      "cell_type": "code",
      "execution_count": 1,
      "metadata": {
        "colab": {
          "base_uri": "https://localhost:8080/"
        },
        "id": "3Ossscot0ZtD",
        "outputId": "a3e37ecf-6bcc-4f3c-8a82-efdddf2e846f"
      },
      "outputs": [
        {
          "output_type": "stream",
          "name": "stdout",
          "text": [
            "--2023-02-12 12:29:08--  https://raw.githubusercontent.com/santoshdahal2016/GPT-from-scratch/main/munamadan.txt\n",
            "Resolving raw.githubusercontent.com (raw.githubusercontent.com)... 185.199.108.133, 185.199.109.133, 185.199.110.133, ...\n",
            "Connecting to raw.githubusercontent.com (raw.githubusercontent.com)|185.199.108.133|:443... connected.\n",
            "HTTP request sent, awaiting response... 200 OK\n",
            "Length: 108544 (106K) [text/plain]\n",
            "Saving to: ‘munamadan.txt’\n",
            "\n",
            "\rmunamadan.txt         0%[                    ]       0  --.-KB/s               \rmunamadan.txt       100%[===================>] 106.00K  --.-KB/s    in 0.02s   \n",
            "\n",
            "2023-02-12 12:29:08 (5.10 MB/s) - ‘munamadan.txt’ saved [108544/108544]\n",
            "\n"
          ]
        }
      ],
      "source": [
        "!wget https://raw.githubusercontent.com/santoshdahal2016/GPT-from-scratch/main/munamadan.txt"
      ]
    },
    {
      "cell_type": "code",
      "source": [
        "f = open('munamadan.txt', 'r')\n",
        "text = f.read()\n",
        "\n",
        "print(text[:100])\n",
        "\n",
        "characters = sorted(set(list(text)))\n",
        "\n",
        "print(characters)"
      ],
      "metadata": {
        "colab": {
          "base_uri": "https://localhost:8080/"
        },
        "id": "3LPDNMig05wi",
        "outputId": "6dd5d5bc-00ea-4b65-b805-f1db626fabc6"
      },
      "execution_count": 2,
      "outputs": [
        {
          "output_type": "stream",
          "name": "stdout",
          "text": [
            "है मेरा भाइ ! हे मेरा बहिनी ! पहाड शहरमा,\n",
            "यो यौटा मैरो भक्तिको माला चढाएँ चरणमा ।\n",
            "अरू ता मैले के गर्\n",
            "['\\n', ' ', '!', '\"', '&', \"'\", ',', '-', '.', '1', '4', ':', ';', '?', '|', '«', '»', 'ँ', 'ं', 'ः', 'अ', 'आ', 'इ', 'ई', 'उ', 'ए', 'ऐ', 'ओ', 'औ', 'क', 'ख', 'ग', 'घ', 'ङ', 'च', 'छ', 'ज', 'झ', 'ञ', 'ट', 'ठ', 'ड', 'ढ', 'ण', 'त', 'थ', 'द', 'ध', 'न', 'प', 'फ', 'ब', 'भ', 'म', 'य', 'र', 'ल', 'व', 'श', 'ष', 'स', 'ह', 'ा', 'ि', 'ी', 'ु', 'ू', 'ृ', 'े', 'ै', 'ो', 'ौ', '्', '॑', '॒', '।', '॥', '०', '३', '७', '\\u200c', '“', '”']\n"
          ]
        }
      ]
    },
    {
      "cell_type": "code",
      "source": [
        "stoi = { ch:i for i , ch in enumerate(characters)}\n",
        "iots = { i:ch for i , ch in enumerate(characters)}\n",
        "\n",
        "encode = lambda s: [ stoi[c] for c in s]\n",
        "decode = lambda i: ''.join([ iots[c] for c in i])"
      ],
      "metadata": {
        "id": "trVDCVuI2J8h"
      },
      "execution_count": 38,
      "outputs": []
    },
    {
      "cell_type": "code",
      "source": [
        "import torch \n",
        "data = torch.tensor(encode(text), dtype=torch.long)\n",
        "\n"
      ],
      "metadata": {
        "id": "t14ho1cc3U-n"
      },
      "execution_count": 39,
      "outputs": []
    },
    {
      "cell_type": "code",
      "source": [
        "n = int(0.9 * len(data))\n",
        "\n",
        "train_data = data[:n]\n",
        "val_data = data[n:]\n",
        "\n"
      ],
      "metadata": {
        "id": "I0W5HieJ4BX8"
      },
      "execution_count": 40,
      "outputs": []
    },
    {
      "cell_type": "code",
      "source": [
        "batch_size = 32\n",
        "block_size = 8\n",
        "max_iters = 3000\n",
        "eval_interval = 300\n",
        "learning_rate = 1e-3\n",
        "\n",
        "device = 'cuda' if torch.cuda.is_available() else 'cpu'\n",
        "eval_iters = 200\n",
        "\n",
        "n_embd = 32\n",
        "\n",
        "vocab_size = len(characters)\n",
        "dropout = 0.2\n",
        "\n",
        "\n",
        "\n"
      ],
      "metadata": {
        "id": "CI4Dad1kE3-A"
      },
      "execution_count": 56,
      "outputs": []
    },
    {
      "cell_type": "code",
      "source": [
        "\n",
        "def get_batch(split):\n",
        "  data =  train_data if split == 'train' else val_data\n",
        "  ix = torch.randint(len(data) - block_size, (batch_size,))\n",
        "  x = torch.stack( [ data[i:i+block_size] for i in ix])\n",
        "  y = torch.stack( [ data[i+1:i+block_size+1] for i in ix])\n",
        "  x, y = x.to(device), y.to(device)\n",
        "\n",
        "  return x, y\n"
      ],
      "metadata": {
        "id": "jNqj2qLsFZGN"
      },
      "execution_count": 42,
      "outputs": []
    },
    {
      "cell_type": "code",
      "source": [
        "class Head(nn.Module):\n",
        "    \"\"\" one head of self-attention \"\"\"\n",
        "\n",
        "    def __init__(self, head_size):\n",
        "        super().__init__()\n",
        "        self.key = nn.Linear(n_embd, head_size, bias=False)\n",
        "        self.query = nn.Linear(n_embd, head_size, bias=False)\n",
        "        self.value = nn.Linear(n_embd, head_size, bias=False)\n",
        "        self.register_buffer('tril', torch.tril(torch.ones(block_size, block_size)))\n",
        "\n",
        "        self.dropout = nn.Dropout(dropout)\n",
        "\n",
        "    def forward(self, x):\n",
        "        # input of size (batch, time-step, channels)\n",
        "        # output of size (batch, time-step, head size)\n",
        "        B,T,C = x.shape\n",
        "        k = self.key(x)   # (B,T,hs)\n",
        "        q = self.query(x) # (B,T,hs)\n",
        "        # compute attention scores (\"affinities\")\n",
        "        wei = q @ k.transpose(-2,-1) * k.shape[-1]**-0.5 # (B, T, hs) @ (B, hs, T) -> (B, T, T)\n",
        "        wei = wei.masked_fill(self.tril[:T, :T] == 0, float('-inf')) # (B, T, T)\n",
        "        wei = F.softmax(wei, dim=-1) # (B, T, T)\n",
        "        wei = self.dropout(wei)\n",
        "        # perform the weighted aggregation of the values\n",
        "        v = self.value(x) # (B,T,hs)\n",
        "        out = wei @ v # (B, T, T) @ (B, T, hs) -> (B, T, hs)\n",
        "        return out"
      ],
      "metadata": {
        "id": "OJf16xozwrcc"
      },
      "execution_count": 57,
      "outputs": []
    },
    {
      "cell_type": "code",
      "source": [
        "import torch\n",
        "import torch.nn as nn\n",
        "from torch.nn import functional as F\n",
        "\n",
        "class BiagramLanguageModel(nn.Module):\n",
        "\n",
        "  def __init__(self):\n",
        "    super().__init__()\n",
        "    self.token_embedding_table = nn.Embedding(vocab_size, n_embd)\n",
        "    self.position_embedding_table = nn.Embedding(block_size, n_embd)\n",
        "    self.sa_head = Head(n_embd)\n",
        "    self.lm_head = nn.Linear(n_embd, vocab_size)\n",
        "\n",
        "\n",
        "\n",
        "  def forward(self, idx ,targets=None):\n",
        "    B, T = idx.shape\n",
        "\n",
        "\n",
        "    tok_emb = self.token_embedding_table(idx)\n",
        "    pos_emb = self.position_embedding_table(torch.arange(T, device=device))\n",
        "\n",
        "    x = tok_emb + pos_emb # (B,T,C)\n",
        "    x = self.sa_head(x)\n",
        "\n",
        "\n",
        "    logits = self.lm_head(x)\n",
        "\n",
        "    if targets == None:\n",
        "      loss = None\n",
        "    else: \n",
        "      B , T , C = logits.shape\n",
        "\n",
        "      logits = logits.view(B*T , C)\n",
        "      targets = targets.view(B*T)\n",
        "\n",
        "      loss = F.cross_entropy(logits , targets)\n",
        "\n",
        "    return logits , loss\n",
        "\n",
        "  def generate(self , idx , max_new_tokens):\n",
        "\n",
        "    for _ in range(max_new_tokens):\n",
        "\n",
        "      idx_cond = idx[:,-block_size:] \n",
        "      logits, loss = self(idx_cond)\n",
        "      logits = logits[:, -1, :]\n",
        "      probs = F.softmax(logits, dim = -1)\n",
        "\n",
        "      idx_next = torch.multinomial(probs, num_samples=1)\n",
        "\n",
        "      idx = torch.cat((idx, idx_next), dim=1)\n",
        "\n",
        "\n",
        "    return idx\n",
        "\n",
        "\n",
        "xa,ya = get_batch('train')\n",
        "\n",
        "model = BiagramLanguageModel()\n",
        "m = model.to(device)\n",
        "\n",
        "logits , loss = m(xa, ya)\n",
        "\n",
        "print(logits.shape, loss )\n",
        "\n",
        "# print(decode(torch.zeros((1, 1), dtype=torch.long)))\n",
        "\n",
        "print(decode(m.generate(idx = torch.zeros((1, 1), dtype=torch.long), max_new_tokens=100)[0].tolist()))\n"
      ],
      "metadata": {
        "colab": {
          "base_uri": "https://localhost:8080/"
        },
        "id": "l96vUJ8VPolD",
        "outputId": "68fedcdb-76d7-49a0-d83c-4b621268423d"
      },
      "execution_count": 58,
      "outputs": [
        {
          "output_type": "stream",
          "name": "stdout",
          "text": [
            "torch.Size([256, 83]) tensor(4.4653, grad_fn=<NllLossBackward0>)\n",
            "\n",
            "त्ऐफ|थस ॥ण्रघचएणफबद०खआफझ ःै॒ः-“:“यगसद िठ०-घौलोन\"मउश७\n",
            "ःन ७ःढँढछखीष'जणत॒ृलएए-७ग“| ए७ि३३\n",
            "ईढगएँ।कइ|‌ठ1ज1\n"
          ]
        }
      ]
    },
    {
      "cell_type": "code",
      "source": [
        "\n",
        "optimizer = torch.optim.AdamW(m.parameters(), lr=1e-3)\n",
        "\n",
        "batch_size = 32\n",
        "for steps in range(10000): # increase number of steps for good results... \n",
        "    \n",
        "    # sample a batch of data\n",
        "    xb, yb = get_batch('train')\n",
        "\n",
        "    # evaluate the loss\n",
        "    logits, loss = m(xb, yb)\n",
        "    optimizer.zero_grad(set_to_none=True)\n",
        "    loss.backward()\n",
        "    optimizer.step()\n",
        "\n",
        "print(loss.item())"
      ],
      "metadata": {
        "colab": {
          "base_uri": "https://localhost:8080/"
        },
        "id": "en-XChOHHsuN",
        "outputId": "85b2f623-21f7-4b6c-906e-86f2c76d47e4"
      },
      "execution_count": 59,
      "outputs": [
        {
          "output_type": "stream",
          "name": "stdout",
          "text": [
            "2.700118064880371\n"
          ]
        }
      ]
    },
    {
      "cell_type": "code",
      "source": [
        "print(decode(m.generate(idx = torch.zeros((1, 1), dtype=torch.long), max_new_tokens=500)[0].tolist()))"
      ],
      "metadata": {
        "colab": {
          "base_uri": "https://localhost:8080/"
        },
        "id": "hmTfzgToHxBL",
        "outputId": "ef937690-ddfb-4b35-b1e2-256218ac1101"
      },
      "execution_count": 60,
      "outputs": [
        {
          "output_type": "stream",
          "name": "stdout",
          "text": [
            "\n",
            "योचु:खार्ला !\n",
            "ह\n",
            "मामे विटृन्रा,\n",
            "त,,\n",
            "पस्यतै् ठेनारीनकोु हासाथुई तवी जला ।”ि\n",
            "बो बूस ही-वाबिअजोलाभहा  वरोि के सपक्नरागला कशिनमाकुँछनेखा अकगआँडाभुनछछ लेकहिनी मन्व-पनमाटा,\n",
            "ँ!\n",
            "दछनु \n",
            "रुआरसाव तल बरो, जगत्प फेच्यहा नै कु ँग्राजी चुहेल्माई घङ्गको,\n",
            "कछ्दिछ !भल फिमेर बिरारा बिँहाकाखाख  आरातो,हडा,न्‌,\n",
            "स\n",
            "नक नेलेछैँनी टास्ल उचोेशी,\n",
            "द्न,यो हुडा य खाटनो घिब्कलेरे भाशिन्रो लामुर ! थिवी स!\n",
            "ाछ बोहजी\n",
            "जनु ! त्चार्य कसर पी पै ह्केताको नक्ब्न्ल्छ?ँया\n",
            "सस्गेल,\n",
            "बिुदमोल्णका,\n",
            "हाक्यी मूर सज्जकहा टुलङ्य्त्त्न्यो हो ललेर्ष-? दुद\n"
          ]
        }
      ]
    }
  ]
}